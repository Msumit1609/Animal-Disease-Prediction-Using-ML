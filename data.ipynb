{
 "cells": [
  {
   "cell_type": "code",
   "execution_count": 19,
   "metadata": {},
   "outputs": [],
   "source": [
    "import pandas as pd\n",
    "import numpy as np \n",
    "import matplotlib.pyplot as plt\n",
    "\n",
    "# Other libraries \n",
    "import string \n",
    "from difflib import SequenceMatcher\n",
    "from textblob import TextBlob\n",
    "\n",
    "# The below code removes all the warnings during execution\n",
    "import warnings\n",
    "warnings.filterwarnings('ignore')"
   ]
  },
  {
   "cell_type": "code",
   "execution_count": 20,
   "metadata": {},
   "outputs": [],
   "source": [
    "df = pd.read_csv('C:\\\\Users\\\\Abhiyansh\\\\Finalproject\\\\data.csv')"
   ]
  },
  {
   "cell_type": "code",
   "execution_count": 22,
   "metadata": {},
   "outputs": [
    {
     "data": {
      "text/plain": [
       "['birds',\n",
       " 'black-tailed deer',\n",
       " 'buffaloes',\n",
       " 'cat',\n",
       " 'cattle',\n",
       " 'chicken',\n",
       " 'cow',\n",
       " 'deer',\n",
       " 'dog',\n",
       " 'dogs',\n",
       " 'donkey',\n",
       " 'duck',\n",
       " 'elephant',\n",
       " 'elk',\n",
       " 'fowl',\n",
       " 'fox',\n",
       " 'fox ',\n",
       " 'goat',\n",
       " 'goats',\n",
       " 'hamster',\n",
       " 'horse',\n",
       " 'hyaenas',\n",
       " 'lion',\n",
       " 'mammal',\n",
       " 'monkey',\n",
       " 'moos',\n",
       " 'mule deer',\n",
       " 'mules',\n",
       " 'other birds',\n",
       " 'pig',\n",
       " 'pigs',\n",
       " 'rabbit',\n",
       " 'reindeer',\n",
       " 'sheep',\n",
       " 'sika deer',\n",
       " 'snake',\n",
       " 'tiger',\n",
       " 'turtle',\n",
       " 'wapiti',\n",
       " 'white-tailed deer',\n",
       " 'wolves']"
      ]
     },
     "execution_count": 22,
     "metadata": {},
     "output_type": "execute_result"
    }
   ],
   "source": [
    "df[\"AnimalName\"].unique()\n",
    "animalName = list(df['AnimalName'].str.lower().unique())\n",
    "animalName.sort()\n",
    "animalName"
   ]
  },
  {
   "cell_type": "code",
   "execution_count": 23,
   "metadata": {},
   "outputs": [],
   "source": [
    "# Repitition of same category of animals in plural form \n",
    "df['AnimalName'] = df['AnimalName'].str.lower()\n",
    "\n",
    "# Replace values \n",
    "\n",
    "# Handling birds and their variants\n",
    "df['AnimalName'] = df['AnimalName'].replace('birds', 'bird')\n",
    "df['AnimalName'] = df['AnimalName'].replace('chicken', 'hen')\n",
    "df['AnimalName'] = df['AnimalName'].replace('fowl', 'bird')\n",
    "df['AnimalName'] = df['AnimalName'].replace('other birds', 'bird')\n",
    "\n",
    "# Handling plurals\n",
    "df['AnimalName'] = df['AnimalName'].replace('buffaloes', 'buffalo')\n",
    "df['AnimalName'] = df['AnimalName'].replace('dogs', 'dog')\n",
    "df['AnimalName'] = df['AnimalName'].replace('goats', 'goat')\n",
    "df['AnimalName'] = df['AnimalName'].replace('hyaenas', 'hyaena')\n",
    "df['AnimalName'] = df['AnimalName'].replace('pigs', 'pig')\n",
    "df['AnimalName'] = df['AnimalName'].replace('wolves', 'wolf')\n",
    "df['AnimalName'] = df['AnimalName'].replace('mules', 'mule')\n",
    "\n",
    "# Moos? There is no animal like that \n",
    "# Converting that to cow\n",
    "df['AnimalName'] = df['AnimalName'].replace('moos', 'cow')\n",
    "\n",
    "# Handling the unique category fox\n",
    "df['AnimalName'] = df['AnimalName'].replace('fox ', 'fox')"
   ]
  },
  {
   "cell_type": "code",
   "execution_count": 24,
   "metadata": {},
   "outputs": [
    {
     "data": {
      "text/plain": [
       "['bird',\n",
       " 'black-tailed deer',\n",
       " 'buffalo',\n",
       " 'cat',\n",
       " 'cattle',\n",
       " 'cow',\n",
       " 'deer',\n",
       " 'dog',\n",
       " 'donkey',\n",
       " 'duck',\n",
       " 'elephant',\n",
       " 'elk',\n",
       " 'fox',\n",
       " 'goat',\n",
       " 'hamster',\n",
       " 'hen',\n",
       " 'horse',\n",
       " 'hyaena',\n",
       " 'lion',\n",
       " 'mammal',\n",
       " 'monkey',\n",
       " 'mule',\n",
       " 'mule deer',\n",
       " 'pig',\n",
       " 'rabbit',\n",
       " 'reindeer',\n",
       " 'sheep',\n",
       " 'sika deer',\n",
       " 'snake',\n",
       " 'tiger',\n",
       " 'turtle',\n",
       " 'wapiti',\n",
       " 'white-tailed deer',\n",
       " 'wolf']"
      ]
     },
     "execution_count": 24,
     "metadata": {},
     "output_type": "execute_result"
    }
   ],
   "source": [
    "animalName = list(df['AnimalName'].str.lower().unique())\n",
    "animalName.sort()\n",
    "animalName"
   ]
  },
  {
   "cell_type": "code",
   "execution_count": 25,
   "metadata": {},
   "outputs": [],
   "source": [
    "s1 = set(df[\"symptoms1\"].unique())\n",
    "s2 = set(df[\"symptoms2\"].unique())\n",
    "s3 = set(df[\"symptoms3\"].unique())\n",
    "s4 = set(df[\"symptoms4\"].unique())\n",
    "s5 = set(df[\"symptoms5\"].unique())"
   ]
  },
  {
   "cell_type": "code",
   "execution_count": 26,
   "metadata": {},
   "outputs": [
    {
     "data": {
      "text/plain": [
       "21"
      ]
     },
     "execution_count": 26,
     "metadata": {},
     "output_type": "execute_result"
    }
   ],
   "source": [
    "len(s1.intersection(s2))"
   ]
  },
  {
   "cell_type": "code",
   "execution_count": 27,
   "metadata": {},
   "outputs": [
    {
     "data": {
      "text/plain": [
       "24"
      ]
     },
     "execution_count": 27,
     "metadata": {},
     "output_type": "execute_result"
    }
   ],
   "source": [
    "len(s1.intersection(s3))"
   ]
  },
  {
   "cell_type": "code",
   "execution_count": 28,
   "metadata": {},
   "outputs": [
    {
     "data": {
      "text/plain": [
       "25"
      ]
     },
     "execution_count": 28,
     "metadata": {},
     "output_type": "execute_result"
    }
   ],
   "source": [
    "len(s1.intersection(s4))"
   ]
  },
  {
   "cell_type": "code",
   "execution_count": 29,
   "metadata": {},
   "outputs": [
    {
     "data": {
      "text/plain": [
       "20"
      ]
     },
     "execution_count": 29,
     "metadata": {},
     "output_type": "execute_result"
    }
   ],
   "source": [
    "len(s1.intersection(s5))"
   ]
  },
  {
   "cell_type": "code",
   "execution_count": 30,
   "metadata": {},
   "outputs": [
    {
     "data": {
      "text/plain": [
       "935"
      ]
     },
     "execution_count": 30,
     "metadata": {},
     "output_type": "execute_result"
    }
   ],
   "source": [
    "s_total = s1.union(s2).union(s3).union(s4).union(s5)\n",
    "len(s_total)"
   ]
  },
  {
   "cell_type": "code",
   "execution_count": null,
   "metadata": {},
   "outputs": [
    {
     "data": {
      "text/plain": [
       "False"
      ]
     },
     "execution_count": 31,
     "metadata": {},
     "output_type": "execute_result"
    }
   ],
   "source": [
    "len(df[df['symptoms1'].str.lower() == 'fever']) == len(df[df['symptoms1'] == 'Fever'])"
   ]
  },
  {
   "cell_type": "code",
   "execution_count": 32,
   "metadata": {},
   "outputs": [
    {
     "data": {
      "text/plain": [
       "array(['Fever', 'fever'], dtype=object)"
      ]
     },
     "execution_count": 32,
     "metadata": {},
     "output_type": "execute_result"
    }
   ],
   "source": [
    "test_df = df[df['symptoms1'].str.lower() == 'fever']\n",
    "test_df['symptoms1'].unique()"
   ]
  },
  {
   "cell_type": "code",
   "execution_count": 33,
   "metadata": {},
   "outputs": [
    {
     "data": {
      "text/html": [
       "<div>\n",
       "<style scoped>\n",
       "    .dataframe tbody tr th:only-of-type {\n",
       "        vertical-align: middle;\n",
       "    }\n",
       "\n",
       "    .dataframe tbody tr th {\n",
       "        vertical-align: top;\n",
       "    }\n",
       "\n",
       "    .dataframe thead th {\n",
       "        text-align: right;\n",
       "    }\n",
       "</style>\n",
       "<table border=\"1\" class=\"dataframe\">\n",
       "  <thead>\n",
       "    <tr style=\"text-align: right;\">\n",
       "      <th></th>\n",
       "      <th>AnimalName</th>\n",
       "      <th>symptoms1</th>\n",
       "      <th>symptoms2</th>\n",
       "      <th>symptoms3</th>\n",
       "      <th>symptoms4</th>\n",
       "      <th>symptoms5</th>\n",
       "      <th>Dangerous</th>\n",
       "    </tr>\n",
       "  </thead>\n",
       "  <tbody>\n",
       "    <tr>\n",
       "      <th>386</th>\n",
       "      <td>horse</td>\n",
       "      <td>fever</td>\n",
       "      <td>mild colic</td>\n",
       "      <td>loss of tail tone</td>\n",
       "      <td>loss of appetite</td>\n",
       "      <td>depression</td>\n",
       "      <td>Yes</td>\n",
       "    </tr>\n",
       "    <tr>\n",
       "      <th>388</th>\n",
       "      <td>horse</td>\n",
       "      <td>fever</td>\n",
       "      <td>loss of appetite</td>\n",
       "      <td>respiratory noise</td>\n",
       "      <td>Weight loss</td>\n",
       "      <td>depression</td>\n",
       "      <td>Yes</td>\n",
       "    </tr>\n",
       "    <tr>\n",
       "      <th>389</th>\n",
       "      <td>horse</td>\n",
       "      <td>fever</td>\n",
       "      <td>nasal discharge</td>\n",
       "      <td>muscular stiffness</td>\n",
       "      <td>swollen lymph nodes</td>\n",
       "      <td>depression</td>\n",
       "      <td>Yes</td>\n",
       "    </tr>\n",
       "    <tr>\n",
       "      <th>415</th>\n",
       "      <td>buffalo</td>\n",
       "      <td>fever</td>\n",
       "      <td>loss of appetite</td>\n",
       "      <td>rapid pulse and heart rates</td>\n",
       "      <td>lameness in affected leg</td>\n",
       "      <td>depression</td>\n",
       "      <td>Yes</td>\n",
       "    </tr>\n",
       "    <tr>\n",
       "      <th>416</th>\n",
       "      <td>sheep</td>\n",
       "      <td>fever</td>\n",
       "      <td>loss of appetite</td>\n",
       "      <td>rapid pulse and heart rates</td>\n",
       "      <td>lameness in affected leg</td>\n",
       "      <td>depression</td>\n",
       "      <td>Yes</td>\n",
       "    </tr>\n",
       "  </tbody>\n",
       "</table>\n",
       "</div>"
      ],
      "text/plain": [
       "    AnimalName symptoms1         symptoms2                    symptoms3   \n",
       "386      horse     fever        mild colic            loss of tail tone  \\\n",
       "388      horse     fever  loss of appetite            respiratory noise   \n",
       "389      horse     fever   nasal discharge           muscular stiffness   \n",
       "415    buffalo     fever  loss of appetite  rapid pulse and heart rates   \n",
       "416      sheep     fever  loss of appetite  rapid pulse and heart rates   \n",
       "\n",
       "                    symptoms4   symptoms5 Dangerous  \n",
       "386          loss of appetite  depression       Yes  \n",
       "388               Weight loss  depression       Yes  \n",
       "389       swollen lymph nodes  depression       Yes  \n",
       "415  lameness in affected leg  depression       Yes  \n",
       "416  lameness in affected leg  depression       Yes  "
      ]
     },
     "execution_count": 33,
     "metadata": {},
     "output_type": "execute_result"
    }
   ],
   "source": [
    "df[df['symptoms1'] == 'fever'].head()"
   ]
  },
  {
   "cell_type": "code",
   "execution_count": 34,
   "metadata": {},
   "outputs": [
    {
     "data": {
      "text/html": [
       "<div>\n",
       "<style scoped>\n",
       "    .dataframe tbody tr th:only-of-type {\n",
       "        vertical-align: middle;\n",
       "    }\n",
       "\n",
       "    .dataframe tbody tr th {\n",
       "        vertical-align: top;\n",
       "    }\n",
       "\n",
       "    .dataframe thead th {\n",
       "        text-align: right;\n",
       "    }\n",
       "</style>\n",
       "<table border=\"1\" class=\"dataframe\">\n",
       "  <thead>\n",
       "    <tr style=\"text-align: right;\">\n",
       "      <th></th>\n",
       "      <th>AnimalName</th>\n",
       "      <th>symptoms1</th>\n",
       "      <th>symptoms2</th>\n",
       "      <th>symptoms3</th>\n",
       "      <th>symptoms4</th>\n",
       "      <th>symptoms5</th>\n",
       "      <th>Dangerous</th>\n",
       "    </tr>\n",
       "  </thead>\n",
       "  <tbody>\n",
       "    <tr>\n",
       "      <th>0</th>\n",
       "      <td>dog</td>\n",
       "      <td>Fever</td>\n",
       "      <td>Diarrhea</td>\n",
       "      <td>Vomiting</td>\n",
       "      <td>Weight loss</td>\n",
       "      <td>Dehydration</td>\n",
       "      <td>Yes</td>\n",
       "    </tr>\n",
       "    <tr>\n",
       "      <th>1</th>\n",
       "      <td>dog</td>\n",
       "      <td>Fever</td>\n",
       "      <td>Diarrhea</td>\n",
       "      <td>Coughing</td>\n",
       "      <td>Tiredness</td>\n",
       "      <td>Pains</td>\n",
       "      <td>Yes</td>\n",
       "    </tr>\n",
       "    <tr>\n",
       "      <th>2</th>\n",
       "      <td>dog</td>\n",
       "      <td>Fever</td>\n",
       "      <td>Diarrhea</td>\n",
       "      <td>Coughing</td>\n",
       "      <td>Vomiting</td>\n",
       "      <td>Anorexia</td>\n",
       "      <td>Yes</td>\n",
       "    </tr>\n",
       "    <tr>\n",
       "      <th>3</th>\n",
       "      <td>dog</td>\n",
       "      <td>Fever</td>\n",
       "      <td>Difficulty breathing</td>\n",
       "      <td>Coughing</td>\n",
       "      <td>Lethargy</td>\n",
       "      <td>Sneezing</td>\n",
       "      <td>Yes</td>\n",
       "    </tr>\n",
       "    <tr>\n",
       "      <th>4</th>\n",
       "      <td>dog</td>\n",
       "      <td>Fever</td>\n",
       "      <td>Diarrhea</td>\n",
       "      <td>Coughing</td>\n",
       "      <td>Lethargy</td>\n",
       "      <td>Blue Eye</td>\n",
       "      <td>Yes</td>\n",
       "    </tr>\n",
       "  </tbody>\n",
       "</table>\n",
       "</div>"
      ],
      "text/plain": [
       "  AnimalName symptoms1             symptoms2 symptoms3    symptoms4   \n",
       "0        dog     Fever              Diarrhea  Vomiting  Weight loss  \\\n",
       "1        dog     Fever              Diarrhea  Coughing    Tiredness   \n",
       "2        dog     Fever              Diarrhea  Coughing     Vomiting   \n",
       "3        dog     Fever  Difficulty breathing  Coughing     Lethargy   \n",
       "4        dog     Fever              Diarrhea  Coughing     Lethargy   \n",
       "\n",
       "     symptoms5 Dangerous  \n",
       "0  Dehydration       Yes  \n",
       "1        Pains       Yes  \n",
       "2     Anorexia       Yes  \n",
       "3     Sneezing       Yes  \n",
       "4     Blue Eye       Yes  "
      ]
     },
     "execution_count": 34,
     "metadata": {},
     "output_type": "execute_result"
    }
   ],
   "source": [
    "df[df['symptoms1'] == 'Fever'].head()"
   ]
  },
  {
   "cell_type": "code",
   "execution_count": 35,
   "metadata": {},
   "outputs": [],
   "source": [
    "cols = list(df.columns)\n",
    "for col in cols:\n",
    "    df[col] = df[col].str.lower()"
   ]
  },
  {
   "cell_type": "code",
   "execution_count": 36,
   "metadata": {},
   "outputs": [
    {
     "data": {
      "text/plain": [
       "879"
      ]
     },
     "execution_count": 36,
     "metadata": {},
     "output_type": "execute_result"
    }
   ],
   "source": [
    "s1 = set(df[\"symptoms1\"].unique())\n",
    "s2 = set(df[\"symptoms2\"].unique())\n",
    "s3 = set(df[\"symptoms3\"].unique())\n",
    "s4 = set(df[\"symptoms4\"].unique())\n",
    "s5 = set(df[\"symptoms5\"].unique())\n",
    "\n",
    "# Checking the total number of unique symptoms \n",
    "s_total = s1.union(s2).union(s3).union(s4).union(s5)\n",
    "len(s_total)"
   ]
  },
  {
   "cell_type": "code",
   "execution_count": 37,
   "metadata": {},
   "outputs": [
    {
     "data": {
      "text/plain": [
       "[' abortion at the end of gestation',\n",
       " ' dizziness and fainting',\n",
       " 'abdminal pain',\n",
       " 'abdominal destention',\n",
       " 'abdominal discomfort',\n",
       " 'abdominal pain',\n",
       " 'abdonormal discomfort',\n",
       " 'abdonormal pain',\n",
       " 'abnormal behaviour',\n",
       " 'abnormal conformation']"
      ]
     },
     "execution_count": 37,
     "metadata": {},
     "output_type": "execute_result"
    }
   ],
   "source": [
    "s_total = list(s_total)\n",
    "s_total.sort()\n",
    "s_total[:10]"
   ]
  },
  {
   "cell_type": "code",
   "execution_count": 38,
   "metadata": {},
   "outputs": [
    {
     "data": {
      "text/plain": [
       "' abortion at the end of gestation'"
      ]
     },
     "execution_count": 38,
     "metadata": {},
     "output_type": "execute_result"
    }
   ],
   "source": [
    "s_total[0]"
   ]
  },
  {
   "cell_type": "code",
   "execution_count": 39,
   "metadata": {},
   "outputs": [
    {
     "data": {
      "text/plain": [
       "('abdminal pain', 'abdominal pain')"
      ]
     },
     "execution_count": 39,
     "metadata": {},
     "output_type": "execute_result"
    }
   ],
   "source": [
    "s_total[2], s_total[5]"
   ]
  },
  {
   "cell_type": "code",
   "execution_count": 40,
   "metadata": {},
   "outputs": [
    {
     "data": {
      "text/plain": [
       "AnimalName    0\n",
       "symptoms1     0\n",
       "symptoms2     0\n",
       "symptoms3     0\n",
       "symptoms4     0\n",
       "symptoms5     0\n",
       "Dangerous     2\n",
       "dtype: int64"
      ]
     },
     "execution_count": 40,
     "metadata": {},
     "output_type": "execute_result"
    }
   ],
   "source": [
    "df.isnull().sum()"
   ]
  },
  {
   "cell_type": "code",
   "execution_count": 41,
   "metadata": {},
   "outputs": [
    {
     "data": {
      "text/html": [
       "<div>\n",
       "<style scoped>\n",
       "    .dataframe tbody tr th:only-of-type {\n",
       "        vertical-align: middle;\n",
       "    }\n",
       "\n",
       "    .dataframe tbody tr th {\n",
       "        vertical-align: top;\n",
       "    }\n",
       "\n",
       "    .dataframe thead th {\n",
       "        text-align: right;\n",
       "    }\n",
       "</style>\n",
       "<table border=\"1\" class=\"dataframe\">\n",
       "  <thead>\n",
       "    <tr style=\"text-align: right;\">\n",
       "      <th></th>\n",
       "      <th>AnimalName</th>\n",
       "      <th>symptoms1</th>\n",
       "      <th>symptoms2</th>\n",
       "      <th>symptoms3</th>\n",
       "      <th>symptoms4</th>\n",
       "      <th>symptoms5</th>\n",
       "      <th>Dangerous</th>\n",
       "    </tr>\n",
       "  </thead>\n",
       "  <tbody>\n",
       "    <tr>\n",
       "      <th>269</th>\n",
       "      <td>False</td>\n",
       "      <td>False</td>\n",
       "      <td>False</td>\n",
       "      <td>False</td>\n",
       "      <td>False</td>\n",
       "      <td>False</td>\n",
       "      <td>True</td>\n",
       "    </tr>\n",
       "    <tr>\n",
       "      <th>695</th>\n",
       "      <td>False</td>\n",
       "      <td>False</td>\n",
       "      <td>False</td>\n",
       "      <td>False</td>\n",
       "      <td>False</td>\n",
       "      <td>False</td>\n",
       "      <td>True</td>\n",
       "    </tr>\n",
       "  </tbody>\n",
       "</table>\n",
       "</div>"
      ],
      "text/plain": [
       "     AnimalName  symptoms1  symptoms2  symptoms3  symptoms4  symptoms5   \n",
       "269       False      False      False      False      False      False  \\\n",
       "695       False      False      False      False      False      False   \n",
       "\n",
       "     Dangerous  \n",
       "269       True  \n",
       "695       True  "
      ]
     },
     "execution_count": 41,
     "metadata": {},
     "output_type": "execute_result"
    }
   ],
   "source": [
    "df_null = df.isnull()\n",
    "df_null[df_null['Dangerous'] == True]"
   ]
  },
  {
   "cell_type": "code",
   "execution_count": 42,
   "metadata": {},
   "outputs": [
    {
     "data": {
      "text/plain": [
       "AnimalName             sheep\n",
       "symptoms1      teeth griding\n",
       "symptoms2             apathy\n",
       "symptoms3        dehydration\n",
       "symptoms4     ruminal stasis\n",
       "symptoms5      watery faeces\n",
       "Dangerous                NaN\n",
       "Name: 269, dtype: object"
      ]
     },
     "execution_count": 42,
     "metadata": {},
     "output_type": "execute_result"
    }
   ],
   "source": [
    "df.iloc[269]"
   ]
  },
  {
   "cell_type": "code",
   "execution_count": 43,
   "metadata": {},
   "outputs": [
    {
     "data": {
      "text/plain": [
       "AnimalName           buffalo\n",
       "symptoms1      teeth griding\n",
       "symptoms2             apathy\n",
       "symptoms3        dehydration\n",
       "symptoms4     ruminal stasis\n",
       "symptoms5      watery faeces\n",
       "Dangerous                NaN\n",
       "Name: 695, dtype: object"
      ]
     },
     "execution_count": 43,
     "metadata": {},
     "output_type": "execute_result"
    }
   ],
   "source": [
    "df.iloc[695]"
   ]
  },
  {
   "cell_type": "code",
   "execution_count": 44,
   "metadata": {},
   "outputs": [],
   "source": [
    "df = df.dropna(how='any',axis=0)"
   ]
  },
  {
   "cell_type": "code",
   "execution_count": 45,
   "metadata": {},
   "outputs": [
    {
     "data": {
      "text/plain": [
       "AnimalName    0\n",
       "symptoms1     0\n",
       "symptoms2     0\n",
       "symptoms3     0\n",
       "symptoms4     0\n",
       "symptoms5     0\n",
       "Dangerous     0\n",
       "dtype: int64"
      ]
     },
     "execution_count": 45,
     "metadata": {},
     "output_type": "execute_result"
    }
   ],
   "source": [
    "df.isnull().sum()"
   ]
  },
  {
   "cell_type": "code",
   "execution_count": 46,
   "metadata": {},
   "outputs": [
    {
     "data": {
      "text/plain": [
       "['z',\n",
       " 'n',\n",
       " 'd',\n",
       " 'r',\n",
       " 'e',\n",
       " 'p',\n",
       " 'o',\n",
       " 'g',\n",
       " '(',\n",
       " 'm',\n",
       " 'j',\n",
       " 'a',\n",
       " '.',\n",
       " 'h',\n",
       " 'y',\n",
       " '\\xa0',\n",
       " 'u',\n",
       " 't',\n",
       " 'f',\n",
       " 'x',\n",
       " '-',\n",
       " 'v',\n",
       " 'l',\n",
       " 'c',\n",
       " 's',\n",
       " ',',\n",
       " 'b',\n",
       " 'k',\n",
       " 'w',\n",
       " '_',\n",
       " ' ',\n",
       " 'i',\n",
       " ')',\n",
       " 'q']"
      ]
     },
     "execution_count": 46,
     "metadata": {},
     "output_type": "execute_result"
    }
   ],
   "source": [
    "characters_unique = set()\n",
    "cols = list(df.columns)\n",
    "for col in cols:\n",
    "    for value in df[col]:\n",
    "        for letter in value:\n",
    "            characters_unique.add(letter)\n",
    "\n",
    "list(characters_unique)"
   ]
  },
  {
   "cell_type": "code",
   "execution_count": 47,
   "metadata": {},
   "outputs": [
    {
     "data": {
      "text/plain": [
       "['(', '.', '\\xa0', '-', ',', '_', ' ', ')']"
      ]
     },
     "execution_count": 47,
     "metadata": {},
     "output_type": "execute_result"
    }
   ],
   "source": [
    "temp = []\n",
    "for ele in characters_unique:\n",
    "    if ele not in string.ascii_lowercase:\n",
    "        temp.append(ele)\n",
    "temp"
   ]
  },
  {
   "cell_type": "code",
   "execution_count": 48,
   "metadata": {},
   "outputs": [],
   "source": [
    "def clean(word):\n",
    "    # Unwanted characters changed to space\n",
    "    for extra in ['_', '-', ',', '\\xa0', ' ', '.', ')', '(']:\n",
    "        word = word.replace(extra, ' ')\n",
    "\n",
    "    list_words = word.split()\n",
    "    final_word = \"\"\n",
    "    for ele in list_words:\n",
    "        ele = ele.strip()\n",
    "\n",
    "        flag = True\n",
    "        for letter in ele:\n",
    "            if letter not in string.ascii_lowercase:\n",
    "                flag = False\n",
    "\n",
    "        if flag:\n",
    "            final_word += ele + \" \"\n",
    "\n",
    "    return final_word.strip()"
   ]
  },
  {
   "cell_type": "code",
   "execution_count": 49,
   "metadata": {},
   "outputs": [
    {
     "data": {
      "text/plain": [
       "'test test test'"
      ]
     },
     "execution_count": 49,
     "metadata": {},
     "output_type": "execute_result"
    }
   ],
   "source": [
    "clean('  test .test test_  ')"
   ]
  },
  {
   "cell_type": "code",
   "execution_count": 50,
   "metadata": {},
   "outputs": [],
   "source": [
    "cols = list(df.columns)\n",
    "for col in cols:\n",
    "    df[col] = df[col].apply(clean)"
   ]
  },
  {
   "cell_type": "code",
   "execution_count": 51,
   "metadata": {},
   "outputs": [
    {
     "data": {
      "text/plain": [
       "862"
      ]
     },
     "execution_count": 51,
     "metadata": {},
     "output_type": "execute_result"
    }
   ],
   "source": [
    "s1 = set(df[\"symptoms1\"].unique())\n",
    "s2 = set(df[\"symptoms2\"].unique())\n",
    "s3 = set(df[\"symptoms3\"].unique())\n",
    "s4 = set(df[\"symptoms4\"].unique())\n",
    "s5 = set(df[\"symptoms5\"].unique())\n",
    "\n",
    "# Checking the total number of unique symptoms \n",
    "s_total = s1.union(s2).union(s3).union(s4).union(s5)\n",
    "len(s_total)"
   ]
  },
  {
   "cell_type": "code",
   "execution_count": 52,
   "metadata": {},
   "outputs": [
    {
     "data": {
      "text/plain": [
       "0.8"
      ]
     },
     "execution_count": 52,
     "metadata": {},
     "output_type": "execute_result"
    }
   ],
   "source": [
    "def similar(a, b):\n",
    "    return SequenceMatcher(None, a, b).ratio()\n",
    "\n",
    "# Testing \n",
    "similar(\"Apple\",\"Appel\")"
   ]
  },
  {
   "cell_type": "code",
   "execution_count": 53,
   "metadata": {},
   "outputs": [
    {
     "data": {
      "text/plain": [
       "0.9629629629629629"
      ]
     },
     "execution_count": 53,
     "metadata": {},
     "output_type": "execute_result"
    }
   ],
   "source": [
    "similar('abdminal pain', 'abdominal pain')"
   ]
  },
  {
   "cell_type": "code",
   "execution_count": 54,
   "metadata": {},
   "outputs": [
    {
     "data": {
      "text/plain": [
       "Index(['AnimalName', 'symptoms1', 'symptoms2', 'symptoms3', 'symptoms4',\n",
       "       'symptoms5', 'Dangerous'],\n",
       "      dtype='object')"
      ]
     },
     "execution_count": 54,
     "metadata": {},
     "output_type": "execute_result"
    }
   ],
   "source": [
    "df.columns"
   ]
  },
  {
   "cell_type": "code",
   "execution_count": 55,
   "metadata": {},
   "outputs": [],
   "source": [
    "def change(df, ws, new):\n",
    "    symps = ['symptoms1', 'symptoms2', 'symptoms3', 'symptoms4', 'symptoms5']\n",
    "    for col in symps:\n",
    "        for w in ws:\n",
    "            df[col] = df[col].replace(w, new)\n",
    "    return df"
   ]
  },
  {
   "cell_type": "code",
   "execution_count": 56,
   "metadata": {},
   "outputs": [
    {
     "data": {
      "text/plain": [
       "311"
      ]
     },
     "execution_count": 56,
     "metadata": {},
     "output_type": "execute_result"
    }
   ],
   "source": [
    "s_total = list(s_total)\n",
    "\n",
    "similarity_scores = []\n",
    "for i1, word1 in enumerate(s_total):\n",
    "    for i2, word2 in enumerate(s_total[i1+1:]):\n",
    "        ratio = similar(word1, word2)\n",
    "        if ratio > 0.75: # Keeping 0.75 as threshold\n",
    "            value = [ratio, (word1, word2)]\n",
    "            similarity_scores.append(value)\n",
    "\n",
    "similarity_scores.sort(key=lambda val: val[0], reverse = True)\n",
    "len(similarity_scores)"
   ]
  },
  {
   "cell_type": "code",
   "execution_count": 57,
   "metadata": {},
   "outputs": [
    {
     "data": {
      "text/plain": [
       "[[0.9787234042553191, ('difficultty in breathing', 'difficulty in breathing')],\n",
       " [0.975609756097561, ('difficult in walking', 'difficulty in walking')],\n",
       " [0.975609756097561, ('high body temperature', 'high body temperaure')],\n",
       " [0.9743589743589743, ('diffculty breathing', 'difficulty breathing')],\n",
       " [0.9743589743589743, ('difficulty breating', 'difficulty breathing')],\n",
       " [0.972972972972973, ('discharge from eye', 'discharge from eyes')],\n",
       " [0.9714285714285714, ('anversion to light', 'aversion to light')],\n",
       " [0.9714285714285714, ('skin color change', 'skin colour change')],\n",
       " [0.9714285714285714, ('decrease appetite', 'decreased appetite')],\n",
       " [0.9696969696969697, ('loss of appettite', 'loss of appetite')]]"
      ]
     },
     "execution_count": 57,
     "metadata": {},
     "output_type": "execute_result"
    }
   ],
   "source": [
    "similarity_scores[:10]"
   ]
  },
  {
   "cell_type": "code",
   "execution_count": 59,
   "metadata": {},
   "outputs": [],
   "source": [
    "#Similarity score >= 0.9\n",
    "df = change(df = df, ws = ['difficultty in breathing', 'difficulty in breathing', \n",
    "                           'difficulty breating', 'difficulty breathing', \n",
    "                           'diffculty breathing', 'difficulty breathing', \n",
    "                           'labored breathing', 'lound breathing', \n",
    "                           'respiratory noise', 'respiratory distress', \n",
    "                          'gasping for breath', 'gasping for air'], new = 'breathing difficulty')\n",
    "df = change(df = df, ws = ['difficulty in walking', 'difficult in walking', \n",
    "                           'limp', 'lip', 'inability to stand',\n",
    "                           'difficulty in walk', 'difficulty walking', 'walking problem',\n",
    "                           'lameness', 'legness'], new = 'walking difficulty')\n",
    "df = change(df = df, ws = ['high body temperaure', 'high body temperature'], new = 'high body temperature')\n",
    "df = change(df = df, ws = ['discharge from eye', 'discharge from eyes'], new = 'discharge from eyes')\n",
    "df = change(df = df, ws = ['decreased appetite', 'decrease appetite', 'poor appetite',\n",
    "                           'loss of eat', 'loss of appettite', 'loss of appetite', 'reduced appetite',\n",
    "                           'loss od appetite', 'loss of appetite', 'unable to eat',\n",
    "                           'loss of appetite', 'lack of appetite'], new = 'decreased appetite')\n",
    "df = change(df = df, ws = ['skin color change', 'skin colour change'], new = 'skin color change')\n",
    "df = change(df = df, ws = ['aversion to light', 'anversion to light'], new = 'aversion to light')\n",
    "df = change(df = df, ws = ['ocular discharge', 'occular discharge', \n",
    "                           'eye discharges', 'eye disharge', \n",
    "                           'discharge from eyes', 'mucus discharge from the eye'], new = 'ocular discharge')\n",
    "df = change(df = df, ws = ['fluffed feather', 'fluffed feathers'], new = 'fluffed feathers')\n",
    "df = change(df = df, ws = ['abdominal pain', 'abdminal pain', \n",
    "                           'abdonormal discomfort', 'abdominal discomfort', \n",
    "                           'abdonormal pain', 'abdominal pain'], new = 'abdominal pain')\n",
    "df = change(df = df, ws = ['inappetence', 'inappentence'], new = 'inappetence')\n",
    "df = change(df = df, ws = ['skin reashes', 'skin rashes'], new = 'skin rashes')\n",
    "df = change(df = df, ws = ['nosebleeds', 'nose bleeds', \n",
    "                           'nose bleeds', 'nosebleed'], new = 'nose bleeds')\n",
    "df = change(df = df, ws = ['despression', 'depression'], new = 'depression')\n",
    "df = change(df = df, ws = ['weightloss', 'weight loss'], new = 'weight loss')\n",
    "df = change(df = df, ws = ['watery eyes', 'watery eye'], new = 'watery eyes')\n",
    "df = change(df = df, ws = ['diffulty swallowing', 'difficulty swallowing'], new = 'difficulty swallowing')\n",
    "df = change(df = df, ws = ['swelling of joints', 'swelling on joints'], new = 'joints swell')\n",
    "df = change(df = df, ws = ['vomitting', 'vomiting'], new = 'vomit')\n",
    "df = change(df = df, ws = ['dizzines', 'dizziness'], new = 'dizziness')\n",
    "df = change(df = df, ws = ['dullness', 'dull ness'], new = 'dullness')\n",
    "df = change(df = df, ws = ['diarrhea', 'diarrhoea'], new = 'diarrhoea')\n",
    "df = change(df = df, ws = ['head ache', 'headache', \n",
    "                           'head tossing', 'head pressing'], new = 'headache')\n",
    "df = change(df = df, ws = ['pneumonia', 'pnemonia'], new = 'pneumonia')\n",
    "df = change(df = df, ws = ['bloody diarrhea', 'bloody diarhhea'], new = 'bloody diarrhoea')\n",
    "df = change(df = df, ws = ['watery eyes', 'watery eye'], new = 'watery eyes')\n",
    "df = change(df = df, ws = ['diffulty swallowing', 'difficulty swallowing', \n",
    "                           'difficulty in swallowing', 'difficulty swallowing'], new = 'difficulty swallowing')\n",
    "df = change(df = df, ws = ['abnormalities', 'abnormalalities'], new = 'abnormalities')\n",
    "df = change(df = df, ws = ['blood in faces', 'blood on faces', \n",
    "                           'blood stool', 'blood in stool'], new = 'bloody faces')\n",
    "df = change(df = df, ws = ['tremor', 'tremors'], new = 'tremor')\n",
    "df = change(df = df, ws = ['anemia', 'aneamia', \n",
    "                          'anemia', 'anaemia'], new = 'anemia')\n",
    "df = change(df = df, ws = ['hyperesthesia', 'hyperaestesia'], new = 'hyperesthesia')\n",
    "df = change(df = df, ws = ['attack', 'attacks'], new = 'attack')\n",
    "df = change(df = df, ws = ['lesion', 'lesions', \n",
    "                          'lession on the skin', 'lession on cat skin'], new = 'lesion')\n",
    "df = change(df = df, ws = ['excess salivation', 'excession salivation', \n",
    "                           'excessive grooming', 'excessive drooling', \n",
    "                           'excess salivation', 'excess salivary'], new = 'excess salivation')\n",
    "df = change(df = df, ws = ['muscles ache', 'muscle aches'], new = 'muscle ache')\n",
    "df = change(df = df, ws = ['nausea', 'nause'], new = 'nausea')\n",
    "df = change(df = df, ws = ['edema', 'oedema'], new = 'edema')\n",
    "df = change(df = df, ws = ['ulcers', 'ulcer'], new = 'ulcer')\n",
    "df = change(df = df, ws = ['sweat', 'sweats', \n",
    "                           'sweating'], new = 'sweat')\n",
    "df = change(df = df, ws = ['grinding teeth', 'grinding of teeth'], new = 'grinding of teeth')\n",
    "df = change(df = df, ws = ['scratching', 'scartching'], new = 'scratching')\n",
    "df = change(df = df, ws = ['join pains', 'joint pain'], new = 'joint pain')\n",
    "df = change(df = df, ws = ['salivating', 'salivation'], new = 'salivation')\n",
    "df = change(df = df, ws = ['week pulse', 'weak pulse'], new = 'week pulse')"
   ]
  },
  {
   "cell_type": "code",
   "execution_count": 60,
   "metadata": {},
   "outputs": [],
   "source": [
    "# Similarity score >= 0.8 and <0.9\n",
    "df = change(df = df, ws = ['oains', 'pain', \n",
    "                           'pain', 'pains'], new = 'pain')\n",
    "df = change(df = df, ws = ['shaking oh head', 'shaking head', \n",
    "                            'head shking', 'head shaking'], new = 'head shaking')\n",
    "df = change(df = df, ws = ['scratches', 'scartches'], new = 'scratching')\n",
    "df = change(df = df, ws = ['muscle stiffness', 'muscular stiffness'], new = 'muscle stiffness')\n",
    "df = change(df = df, ws = ['ruffled feathers', 'fluffed feathers', \n",
    "                           'puffed up feather', 'ruffled feathers'], new = 'ruffled feathers')\n",
    "df = change(df = df, ws = ['seizuers', 'seizures'], new = 'seizures')\n",
    "df = change(df = df, ws = ['lethargy', 'lathargy'], new = 'lathargy')\n",
    "df = change(df = df, ws = ['weekness', 'weakness'], new = 'weakness')\n",
    "df = change(df = df, ws = ['bleeding wounds', 'bleeding from wounds'], new = 'bleeding from wounds')\n",
    "df = change(df = df, ws = ['gasc', 'gas'], new = 'gas')\n",
    "df = change(df = df, ws = ['high temperature', 'high body temperature'], new = 'high temperature')\n",
    "df = change(df = df, ws = ['fatigue', 'fatique'], new = 'fatigue')\n",
    "df = change(df = df, ws = ['distress', 'stress'], new = 'stress')\n",
    "df = change(df = df, ws = ['poor coat condition', 'poor condition', \n",
    "                           'poor condition', 'poor body condition', \n",
    "                           'poor coat condition', 'poor body condition'], new = 'poor condition')\n",
    "df = change(df = df, ws = ['relunctance to move', 'reluctant move'], new = 'reluctant move')\n",
    "df = change(df = df, ws = ['bloody urine', 'blood in urine'], new = 'bloody urine')\n",
    "df = change(df = df, ws = ['change in gait', 'changed gait'], new = 'change in gait')\n",
    "df = change(df = df, ws = ['drop in milk production', 'decrease in milk production'], new = 'decrease in milk production')\n",
    "df = change(df = df, ws = ['thivk skin', 'thicked skin'], new = 'thick skin')\n",
    "df = change(df = df, ws = ['tear produce', 'tear production'], new = 'tear production')\n",
    "df = change(df = df, ws = ['rapid heartbeats', 'rapid heart rate'], new = 'rapid heartbeats')\n",
    "df = change(df = df, ws = ['flock moratality', 'kid moratality'], new = 'flock moratality')\n",
    "df = change(df = df, ws = ['skin irritation', 'irritation'], new = 'skin irritation')\n",
    "df = change(df = df, ws = ['itchiness', 'itches', 'itching'], new = 'itches')\n",
    "df = change(df = df, ws = ['listless', 'listlessness'], new = 'listless')\n",
    "df = change(df = df, ws = ['drooping wings', 'droopy wings'], new = 'droopy wings')\n",
    "df = change(df = df, ws = ['tachypea', 'trachea'], new = 'trachea')\n",
    "df = change(df = df, ws = ['hot joints', 'hock joint'], new = 'hot joints')\n",
    "df = change(df = df, ws = ['cough', 'coughing'], new = 'cough')\n",
    "df = change(df = df, ws = ['swelling on thebody'], new = 'swelling on the body')"
   ]
  },
  {
   "cell_type": "code",
   "execution_count": null,
   "metadata": {},
   "outputs": [],
   "source": []
  },
  {
   "cell_type": "code",
   "execution_count": 61,
   "metadata": {},
   "outputs": [
    {
     "data": {
      "text/plain": [
       "740"
      ]
     },
     "execution_count": 61,
     "metadata": {},
     "output_type": "execute_result"
    }
   ],
   "source": [
    "# rechecking unique count \n",
    "s1 = set(df[\"symptoms1\"].unique())\n",
    "s2 = set(df[\"symptoms2\"].unique())\n",
    "s3 = set(df[\"symptoms3\"].unique())\n",
    "s4 = set(df[\"symptoms4\"].unique())\n",
    "s5 = set(df[\"symptoms5\"].unique())\n",
    "\n",
    "# Checking the total number of unique symptoms \n",
    "s_total = s1.union(s2).union(s3).union(s4).union(s5)\n",
    "len(s_total)"
   ]
  },
  {
   "cell_type": "code",
   "execution_count": 62,
   "metadata": {},
   "outputs": [],
   "source": [
    "symps = ['symptoms1', 'symptoms2', 'symptoms3', 'symptoms4', 'symptoms5']\n",
    "for col in symps:\n",
    "    df[col] = df[col].apply(lambda txt: ''.join(TextBlob(txt).correct()))"
   ]
  },
  {
   "cell_type": "code",
   "execution_count": 63,
   "metadata": {},
   "outputs": [],
   "source": [
    "df.to_csv(\"clean-data.csv\", index=False)"
   ]
  }
 ],
 "metadata": {
  "kernelspec": {
   "display_name": "Python 3",
   "language": "python",
   "name": "python3"
  },
  "language_info": {
   "codemirror_mode": {
    "name": "ipython",
    "version": 3
   },
   "file_extension": ".py",
   "mimetype": "text/x-python",
   "name": "python",
   "nbconvert_exporter": "python",
   "pygments_lexer": "ipython3",
   "version": "3.10.11"
  }
 },
 "nbformat": 4,
 "nbformat_minor": 2
}
